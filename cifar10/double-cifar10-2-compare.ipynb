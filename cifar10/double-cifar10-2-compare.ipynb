{
 "cells": [
  {
   "cell_type": "markdown",
   "metadata": {},
   "source": [
    "## CIFAR 10"
   ]
  },
  {
   "cell_type": "code",
   "execution_count": 1,
   "metadata": {},
   "outputs": [],
   "source": [
    "%matplotlib inline\n",
    "%reload_ext autoreload\n",
    "%autoreload 2"
   ]
  },
  {
   "cell_type": "code",
   "execution_count": 2,
   "metadata": {},
   "outputs": [],
   "source": [
    "import argparse\n",
    "import os\n",
    "import shutil\n",
    "import time\n",
    "\n",
    "from fastai.transforms import *\n",
    "from fastai.dataset import *\n",
    "from fastai.fp16 import *\n",
    "from fastai.conv_learner import *\n",
    "from pathlib import *\n",
    "from fastai import io\n",
    "import tarfile\n",
    "\n",
    "import torch\n",
    "from torch.autograd import Variable\n",
    "import torch.nn as nn\n",
    "import torch.nn.parallel\n",
    "import torch.backends.cudnn as cudnn\n",
    "import torch.distributed as dist\n",
    "import torch.optim\n",
    "import torch.utils.data\n",
    "import torch.utils.data.distributed\n",
    "import torchvision.transforms as transforms\n",
    "import torchvision.datasets as datasets\n",
    "import models\n",
    "import models.cifar10 as cifar10models\n",
    "from distributed import DistributedDataParallel as DDP\n",
    "\n",
    "from datetime import datetime\n",
    "\n",
    "# print(models.cifar10.__dict__)\n",
    "model_names = sorted(name for name in models.__dict__\n",
    "                     if name.islower() and not name.startswith(\"__\")\n",
    "                     and callable(models.__dict__[name]))\n",
    "\n",
    "cifar10_names = sorted(name for name in cifar10models.__dict__\n",
    "                     if name.islower() and not name.startswith(\"__\")\n",
    "                     and callable(cifar10models.__dict__[name]))\n",
    "\n",
    "model_names = cifar10_names + model_names"
   ]
  },
  {
   "cell_type": "code",
   "execution_count": 3,
   "metadata": {},
   "outputs": [],
   "source": [
    "#print(models.cifar10.__dict__)\n",
    "#print(model_names)"
   ]
  },
  {
   "cell_type": "code",
   "execution_count": 4,
   "metadata": {},
   "outputs": [
    {
     "data": {
      "text/plain": [
       "_StoreAction(option_strings=['--rank'], dest='rank', nargs=None, const=None, default=0, type=<class 'int'>, choices=None, help=\"Used for multi-process training. Can either be manually set or automatically set by using 'python -m multiproc'.\", metavar=None)"
      ]
     },
     "execution_count": 4,
     "metadata": {},
     "output_type": "execute_result"
    }
   ],
   "source": [
    "# Example usage: python run_fastai.py /home/paperspace/ILSVRC/Data/CLS-LOC/ -a resnext_50_32x4d --epochs 1 -j 4 -b 64 --fp16\n",
    "\n",
    "parser = argparse.ArgumentParser(description='PyTorch Cifar10 Training')\n",
    "parser.add_argument('data', metavar='DIR',\n",
    "                    help='path to dataset')\n",
    "parser.add_argument('--save-dir', type=str, default=Path.home()/'imagenet_training',\n",
    "                    help='Directory to save logs and models.')\n",
    "parser.add_argument('--arch', '-a', metavar='ARCH', default='resnet56',\n",
    "                    choices=model_names,\n",
    "                    help='model architecture: ' +\n",
    "                    ' | '.join(model_names) +\n",
    "                    ' (default: resnet56)')\n",
    "parser.add_argument('-dp', '--data-parallel', action='store_true', help='Use DataParallel')\n",
    "parser.add_argument('-j', '--workers', default=7, type=int, metavar='N',\n",
    "                    help='number of data loading workers (default: 4)')\n",
    "parser.add_argument('--epochs', default=1, type=int, metavar='N',\n",
    "                    help='number of total epochs to run')\n",
    "parser.add_argument('--cycle-len', default=95, type=float, metavar='N',\n",
    "                    help='Length of cycle to run')\n",
    "parser.add_argument('-b', '--batch-size', default=512, type=int,\n",
    "                    metavar='N', help='mini-batch size (default: 512)')\n",
    "parser.add_argument('--lr', '--learning-rate', default=0.8, type=float,\n",
    "                    metavar='LR', help='initial learning rate')\n",
    "parser.add_argument('--momentum', default=0.9, type=float, metavar='M', help='momentum')\n",
    "parser.add_argument('--weight-decay', '--wd', default=1e-4, type=float,\n",
    "                    metavar='W', help='weight decay (default: 1e-4)')\n",
    "parser.add_argument('--pretrained', dest='pretrained', action='store_true', help='use pre-trained model')\n",
    "parser.add_argument('--fp16', action='store_true', help='Run model fp16 mode.')\n",
    "parser.add_argument('--use-tta', default=False, type=bool, help='Validate model with TTA at the end of traiing.')\n",
    "parser.add_argument('--sz',       default=32, type=int, help='Size of transformed image.')\n",
    "parser.add_argument('--use-clr', default='10,13.68,0.95,0.85', type=str,\n",
    "                    help='div,pct,max_mom,min_mom. Pass in a string delimited by commas. Ex: \"20,2,0.95,0.85\"')\n",
    "parser.add_argument('--loss-scale', type=float, default=128,\n",
    "                    help='Loss scaling, positive power of 2 values can improve fp16 convergence.')\n",
    "parser.add_argument('--warmup', action='store_true', help='Do a warm-up epoch first')\n",
    "parser.add_argument('--prof', dest='prof', action='store_true', help='Only run a few iters for profiling.')\n",
    "parser.add_argument('--dist-url', default='file://sync.file', type=str,\n",
    "                    help='url used to set up distributed training')\n",
    "parser.add_argument('--dist-backend', default='nccl', type=str, help='distributed backend')\n",
    "parser.add_argument('--world-size', default=1, type=int,\n",
    "                    help='Number of GPUs to use. Can either be manually set ' +\n",
    "                    'or automatically set by using \\'python -m multiproc\\'.')\n",
    "parser.add_argument('--rank', default=0, type=int,\n",
    "                    help='Used for multi-process training. Can either be manually set ' +\n",
    "                    'or automatically set by using \\'python -m multiproc\\'.')"
   ]
  },
  {
   "cell_type": "code",
   "execution_count": 5,
   "metadata": {},
   "outputs": [],
   "source": [
    "def pad(img, p=4, padding_mode='reflect'):\n",
    "        return Image.fromarray(np.pad(np.asarray(img), ((p, p), (p, p), (0, 0)), padding_mode))\n",
    "\n",
    "class TorchModelData(ModelData):\n",
    "    def __init__(self, path, sz, trn_dl, val_dl, aug_dl=None):\n",
    "        super().__init__(path, trn_dl, val_dl)\n",
    "        self.aug_dl = aug_dl\n",
    "        self.sz = sz\n",
    "\n",
    "def download_cifar10(data_path):\n",
    "    # (AS) TODO: put this into the fastai library\n",
    "    def untar_file(file_path, save_path):\n",
    "        if file_path.endswith('.tar.gz') or file_path.endswith('.tgz'):\n",
    "            obj = tarfile.open(file_path)\n",
    "            obj.extractall(save_path)\n",
    "            obj.close()\n",
    "            os.remove(file_path)\n",
    "\n",
    "    cifar_url = 'http://files.fast.ai/data/cifar10.tgz' # faster download\n",
    "    # cifar_url = 'http://pjreddie.com/media/files/cifar.tgz'\n",
    "    io.get_data(cifar_url, args.data+'/cifar10.tgz')\n",
    "    untar_file(data_path+'/cifar10.tgz', data_path)\n",
    "    # Loader expects train and test folders to be outside of cifar10 folder\n",
    "    shutil.move(data_path+'/cifar10/train', data_path)\n",
    "    shutil.move(data_path+'/cifar10/test', data_path)\n",
    "\n",
    "def torch_loader(data_path, size):\n",
    "    if not os.path.exists(data_path+'/train'): download_cifar10(data_path)\n",
    "\n",
    "    # Data loading code\n",
    "    traindir = os.path.join(data_path, 'train')\n",
    "    valdir = os.path.join(data_path, 'test')\n",
    "    normalize = transforms.Normalize(mean=[0.4914 , 0.48216, 0.44653], std=[0.24703, 0.24349, 0.26159])\n",
    "    tfms = [transforms.ToTensor(), normalize]\n",
    "\n",
    "    scale_size = 40\n",
    "    padding = int((scale_size - size) / 2)\n",
    "    train_tfms = transforms.Compose([\n",
    "        pad, # TODO: use `padding` rather than assuming 4\n",
    "        transforms.RandomCrop(size),\n",
    "        transforms.ColorJitter(.25,.25,.25),\n",
    "        transforms.RandomRotation(2),\n",
    "        transforms.RandomHorizontalFlip(),\n",
    "    ] + tfms)\n",
    "    val_tfms = transforms.Compose(tfms)\n",
    "\n",
    "    train_dataset = datasets.ImageFolder(traindir, train_tfms)\n",
    "    val_dataset = datasets.ImageFolder(valdir, val_tfms)\n",
    "\n",
    "    train_sampler = (torch.utils.data.distributed.DistributedSampler(train_dataset) if args.distributed else None)\n",
    "    val_sampler = (torch.utils.data.distributed.DistributedSampler(val_dataset) if args.distributed else None)\n",
    "\n",
    "    train_loader = torch.utils.data.DataLoader(\n",
    "        train_dataset, batch_size=args.batch_size, shuffle=(train_sampler is None),\n",
    "        num_workers=args.workers, pin_memory=True, sampler=train_sampler)\n",
    "\n",
    "    val_loader = torch.utils.data.DataLoader(\n",
    "        val_dataset, batch_size=args.batch_size*2, shuffle=False,\n",
    "        num_workers=args.workers, pin_memory=True, sampler=val_sampler)\n",
    "\n",
    "    aug_loader = torch.utils.data.DataLoader(\n",
    "        datasets.ImageFolder(valdir, train_tfms),\n",
    "        batch_size=args.batch_size, shuffle=False,\n",
    "        num_workers=args.workers, pin_memory=True)\n",
    "\n",
    "    train_loader = DataPrefetcher(train_loader)\n",
    "    val_loader = DataPrefetcher(val_loader)\n",
    "    aug_loader = DataPrefetcher(aug_loader)\n",
    "    if args.prof:\n",
    "        train_loader.stop_after = 200\n",
    "        val_loader.stop_after = 0\n",
    "\n",
    "    data = TorchModelData(data_path, args.sz, train_loader, val_loader, aug_loader)\n",
    "    if train_sampler: \n",
    "        data.trn_sampler = train_sampler\n",
    "        data.val_sampler = val_sampler\n",
    "    return data\n",
    "\n",
    "# Seems to speed up training by ~2%\n",
    "class DataPrefetcher():\n",
    "    def __init__(self, loader, stop_after=None):\n",
    "        self.loader = loader\n",
    "        self.dataset = loader.dataset\n",
    "        self.stream = torch.cuda.Stream()\n",
    "        self.stop_after = stop_after\n",
    "        self.next_input = None\n",
    "        self.next_target = None\n",
    "\n",
    "    def __len__(self):\n",
    "        return len(self.loader)\n",
    "\n",
    "    def preload(self):\n",
    "        try:\n",
    "            self.next_input, self.next_target = next(self.loaditer)\n",
    "        except StopIteration:\n",
    "            self.next_input = None\n",
    "            self.next_target = None\n",
    "            return\n",
    "        with torch.cuda.stream(self.stream):\n",
    "            self.next_input = self.next_input.cuda(async=True)\n",
    "            self.next_target = self.next_target.cuda(async=True)\n",
    "\n",
    "    def __iter__(self):\n",
    "        count = 0\n",
    "        self.loaditer = iter(self.loader)\n",
    "        self.preload()\n",
    "        while self.next_input is not None:\n",
    "            torch.cuda.current_stream().wait_stream(self.stream)\n",
    "            input = self.next_input\n",
    "            target = self.next_target\n",
    "            self.preload()\n",
    "            count += 1\n",
    "            yield input, target\n",
    "            if type(self.stop_after) is int and (count > self.stop_after):\n",
    "                break"
   ]
  },
  {
   "cell_type": "code",
   "execution_count": 6,
   "metadata": {},
   "outputs": [],
   "source": [
    "def top5(output, target):\n",
    "    \"\"\"Computes the precision@k for the specified values of k\"\"\"\n",
    "    top5 = 5\n",
    "    batch_size = target.size(0)\n",
    "    _, pred = output.topk(top5, 1, True, True)\n",
    "    pred = pred.t()\n",
    "    correct = pred.eq(target.view(1, -1).expand_as(pred))\n",
    "    correct_k = correct[:top5].view(-1).float().sum(0, keepdim=True)\n",
    "    return correct_k.mul_(1.0 / batch_size)\n",
    "\n",
    "\n",
    "class ImagenetLoggingCallback(Callback):\n",
    "    start_time = 0\n",
    "    def __init__(self, save_path, print_every=50):\n",
    "        super().__init__()\n",
    "        self.save_path=save_path\n",
    "        self.print_every=print_every\n",
    "        self.start_time = datetime.now()\n",
    "    def on_train_begin(self):\n",
    "        self.batch = 0\n",
    "        self.epoch = 0\n",
    "        self.f = open(self.save_path, \"a\", 1)\n",
    "        self.log(\"epoch\\thours\\ttop1Accuracy\")\n",
    "    def on_epoch_end(self, metrics):\n",
    "        current_time = datetime.now()\n",
    "        time_diff = current_time - self.start_time\n",
    "        log_str = f'{self.epoch}\\t{float(time_diff.total_seconds() / 3600.0)}\\t{100 * metrics[1]}'\n",
    "        #for (k,v) in zip(['val_loss', 'acc'], metrics): if k=='acc': log_str += f'\\t{k}:{v}'\n",
    "        self.log(log_str)\n",
    "        self.epoch += 1\n",
    "    def on_batch_end(self, metrics):\n",
    "        self.last_loss = metrics\n",
    "        self.batch += 1\n",
    "        #if self.batch % self.print_every == 0:\n",
    "            #self.log(f'Epoch: {self.epoch} Batch: {self.batch} Metrics: {metrics}')\n",
    "    def on_train_end(self): self.f.close()\n",
    "    def log(self, string): self.f.write(string+\"\\n\")\n",
    "\n",
    "# Logging + saving models\n",
    "def save_args(name, save_dir):\n",
    "    if (args.rank != 0) or not args.save_dir: return {}\n",
    "\n",
    "    log_dir = f'{save_dir}/training_logs'\n",
    "    os.makedirs(log_dir, exist_ok=True)\n",
    "    return {\n",
    "        'best_save_name': f'{name}_best_model',\n",
    "        'cycle_save_name': f'{name}',\n",
    "        'callbacks': [\n",
    "            ImagenetLoggingCallback(f'{log_dir}/{name}_log.txt')\n",
    "        ]\n",
    "    }\n",
    "\n",
    "def save_sched(sched, save_dir):\n",
    "    if (args.rank != 0) or not args.save_dir: return {}\n",
    "    log_dir = f'{save_dir}/training_logs'\n",
    "    sched.save_path = log_dir\n",
    "    sched.plot_loss()\n",
    "    sched.plot_lr()\n",
    "\n",
    "def update_model_dir(learner, base_dir):\n",
    "    learner.tmp_path = f'{base_dir}/tmp'\n",
    "    os.makedirs(learner.tmp_path, exist_ok=True)\n",
    "    learner.models_path = f'{base_dir}/models'\n",
    "    os.makedirs(learner.models_path, exist_ok=True)\n"
   ]
  },
  {
   "cell_type": "markdown",
   "metadata": {},
   "source": [
    "### Configuration"
   ]
  },
  {
   "cell_type": "code",
   "execution_count": 7,
   "metadata": {},
   "outputs": [],
   "source": [
    "args_input = [\n",
    "    '/home/paperspace/data/cifar10', \n",
    "    '--save-dir', '/home/paperspace/data/cifar_training/model_merge',\n",
    "    '-a', 'wrn_22',\n",
    "#     '-b', '512', \n",
    "    '--loss-scale', '512',\n",
    "    '--fp16',\n",
    "    '--cycle-len', '30',\n",
    "    '--use-clr', '20,20,0.95,0.85',\n",
    "    '--wd', '1e-4',\n",
    "    '--lr', '1.5',\n",
    "#     '--train-half' # With fp16, iterations are so fast this doesn't matter\n",
    "]"
   ]
  },
  {
   "cell_type": "code",
   "execution_count": 8,
   "metadata": {},
   "outputs": [],
   "source": [
    "# This is important for speed\n",
    "cudnn.benchmark = True\n",
    "global arg\n",
    "args = parser.parse_args(args_input); args\n",
    "if args.cycle_len > 1: args.cycle_len = int(args.cycle_len)"
   ]
  },
  {
   "cell_type": "code",
   "execution_count": 9,
   "metadata": {},
   "outputs": [],
   "source": [
    "args.distributed = args.world_size > 1\n",
    "args.gpu = 0\n",
    "if args.distributed: args.gpu = args.rank % torch.cuda.device_count()\n",
    "\n",
    "if args.distributed:\n",
    "    torch.cuda.set_device(args.gpu)\n",
    "    dist.init_process_group(backend=args.dist_backend, init_method=args.dist_url,\n",
    "                            world_size=args.world_size)\n",
    "\n",
    "if args.fp16: assert torch.backends.cudnn.enabled, \"missing cudnn\"\n"
   ]
  },
  {
   "cell_type": "code",
   "execution_count": 10,
   "metadata": {},
   "outputs": [],
   "source": [
    "model = cifar10models.__dict__[args.arch] if args.arch in cifar10_names else models.__dict__[args.arch]\n",
    "if args.pretrained: model = model(pretrained=True)\n",
    "else: model = model()"
   ]
  },
  {
   "cell_type": "code",
   "execution_count": 11,
   "metadata": {},
   "outputs": [],
   "source": [
    "model = model.cuda()\n",
    "if args.distributed: model = DDP(model)\n",
    "if args.data_parallel:\n",
    "    n_dev = 4\n",
    "    model = nn.DataParallel(model, range(n_dev))\n",
    "    args.batch_size *= n_dev"
   ]
  },
  {
   "cell_type": "code",
   "execution_count": 12,
   "metadata": {
    "scrolled": true
   },
   "outputs": [],
   "source": [
    "data = torch_loader(args.data, args.sz)\n",
    "\n",
    "learner = Learner.from_model_data(model, data)\n",
    "learner.crit = F.cross_entropy\n",
    "learner.metrics = [accuracy]\n",
    "if args.fp16: learner.half()\n",
    "\n",
    "if args.prof: args.epochs,args.cycle_len = 1,0.01\n",
    "if args.use_clr: args.use_clr = tuple(map(float, args.use_clr.split(',')))"
   ]
  },
  {
   "cell_type": "code",
   "execution_count": 14,
   "metadata": {},
   "outputs": [],
   "source": [
    "# Full size\n",
    "update_model_dir(learner, args.save_dir)\n",
    "sargs = save_args('first_run', args.save_dir)"
   ]
  },
  {
   "cell_type": "code",
   "execution_count": 13,
   "metadata": {
    "scrolled": true
   },
   "outputs": [
    {
     "data": {
      "application/vnd.jupyter.widget-view+json": {
       "model_id": "615862c170f54c03ac47b1eca21057ce",
       "version_major": 2,
       "version_minor": 0
      },
      "text/plain": [
       "HBox(children=(IntProgress(value=0, description='Epoch', max=30), HTML(value='')))"
      ]
     },
     "metadata": {},
     "output_type": "display_data"
    },
    {
     "name": "stdout",
     "output_type": "stream",
     "text": [
      "epoch      trn_loss   val_loss   accuracy                 \n",
      "    0      1.478087   1.540294   0.4752    \n",
      "    1      1.084691   1.038045   0.6374                   \n",
      "    2      0.845577   1.11008    0.6524                    \n",
      "    3      0.697011   0.732041   0.7454                    \n",
      "    4      0.602121   0.690779   0.7662                    \n",
      "    5      0.535378   0.641333   0.7821                    \n",
      "    6      0.483499   0.590788   0.7985                    \n",
      "    7      0.454385   0.720171   0.7691                    \n",
      "    8      0.41937    0.622788   0.7963                    \n",
      "    9      0.39205    0.558727   0.8136                    \n",
      "    10     0.383203   0.531049   0.8215                    \n",
      "    11     0.375983   0.728196   0.7615                    \n",
      "    12     0.354737   0.517552   0.8246                    \n",
      "    13     0.326496   0.568034   0.8151                    \n",
      "    14     0.312559   0.566056   0.8251                    \n",
      "    15     0.293051   0.659369   0.8073                    \n",
      "    16     0.281871   0.612875   0.8083                    \n",
      "    17     0.267998   0.630921   0.8037                    \n",
      "    18     0.249641   0.580623   0.8244                    \n",
      "    19     0.224682   0.466912   0.8456                    \n",
      "    20     0.201736   0.446817   0.858                     \n",
      "    21     0.172972   0.419998   0.8765                    \n",
      "    22     0.141087   0.271964   0.9139                    \n",
      "    23     0.101423   0.22931    0.9273                    \n",
      "    24     0.071334   0.214052   0.9342                     \n",
      "    25     0.057223   0.210659   0.9358                     \n",
      "    26     0.047009   0.208038   0.9391                     \n",
      "    27     0.038129   0.204866   0.9398                     \n",
      "    28     0.031382   0.2        0.9417                     \n",
      "    29     0.027486   0.202702   0.9415                     \n",
      "\n"
     ]
    },
    {
     "data": {
      "image/png": "[encoded data removed]",
      "text/plain": [
       "<Figure size 432x288 with 1 Axes>"
      ]
     },
     "metadata": {},
     "output_type": "display_data"
    },
    {
     "data": {
      "image/png": "[encoded data removed]",
      "text/plain": [
       "<Figure size 864x288 with 2 Axes>"
      ]
     },
     "metadata": {},
     "output_type": "display_data"
    }
   ],
   "source": [
    "if args.warmup:\n",
    "    learner.fit(args.lr/10, 1, cycle_len=1, wds=args.weight_decay,\n",
    "            use_clr_beta=(100,1,0.9,0.8), loss_scale=args.loss_scale, **sargs)\n",
    "\n",
    "learner.fit(args.lr,args.epochs, cycle_len=args.cycle_len,\n",
    "            wds=args.weight_decay,\n",
    "            use_clr_beta=args.use_clr, loss_scale=args.loss_scale,\n",
    "            **sargs)\n",
    "save_sched(learner.sched, args.save_dir)"
   ]
  },
  {
   "cell_type": "code",
   "execution_count": 15,
   "metadata": {},
   "outputs": [],
   "source": [
    "learner.save('wrn_22_dawn_netblk_94')"
   ]
  },
  {
   "cell_type": "code",
   "execution_count": 15,
   "metadata": {},
   "outputs": [],
   "source": [
    "learner.load('wrn_22_dawn_netblk_94')"
   ]
  },
  {
   "cell_type": "markdown",
   "metadata": {},
   "source": [
    "### Let's fit another time so we can have a good comparison"
   ]
  },
  {
   "cell_type": "code",
   "execution_count": 16,
   "metadata": {},
   "outputs": [
    {
     "data": {
      "application/vnd.jupyter.widget-view+json": {
       "model_id": "a85f23cdada746e591f0168aa2c31752",
       "version_major": 2,
       "version_minor": 0
      },
      "text/plain": [
       "HBox(children=(IntProgress(value=0, description='Epoch', max=10), HTML(value='')))"
      ]
     },
     "metadata": {},
     "output_type": "display_data"
    },
    {
     "name": "stdout",
     "output_type": "stream",
     "text": [
      "epoch      trn_loss   val_loss   accuracy                   \n",
      "    0      0.024694   0.201709   0.9417    \n",
      "    1      0.026032   0.202267   0.9418                     \n",
      "    2      0.02459    0.202201   0.9425                     \n",
      "    3      0.024572   0.203718   0.9409                     \n",
      "    4      0.023587   0.204155   0.9412                     \n",
      "    5      0.024833   0.204028   0.9413                     \n",
      "    6      0.022673   0.204859   0.9416                     \n",
      "    7      0.022679   0.204319   0.9417                     \n",
      "    8      0.022726   0.204558   0.9409                     \n",
      "    9      0.023181   0.204918   0.9413                     \n",
      "\n"
     ]
    },
    {
     "data": {
      "image/png": "[encoded data removed]",
      "text/plain": [
       "<Figure size 432x288 with 1 Axes>"
      ]
     },
     "metadata": {},
     "output_type": "display_data"
    },
    {
     "data": {
      "image/png": "[encoded data removed]",
      "text/plain": [
       "<Figure size 864x288 with 2 Axes>"
      ]
     },
     "metadata": {},
     "output_type": "display_data"
    }
   ],
   "source": [
    "learner.fit(.01,args.epochs, cycle_len=10,\n",
    "            wds=args.weight_decay,\n",
    "            use_clr_beta=args.use_clr, loss_scale=args.loss_scale,\n",
    "            **sargs)\n",
    "save_sched(learner.sched, args.save_dir)"
   ]
  },
  {
   "cell_type": "code",
   "execution_count": 17,
   "metadata": {},
   "outputs": [],
   "source": [
    "learner.save('wrn_22_dawn_netblk_94-samearch-epoch2')"
   ]
  },
  {
   "cell_type": "markdown",
   "metadata": {},
   "source": [
    "### Loss seems to stagnate. Let's try lower lr "
   ]
  },
  {
   "cell_type": "code",
   "execution_count": 22,
   "metadata": {},
   "outputs": [],
   "source": [
    "learner.load('wrn_22_dawn_netblk_94')"
   ]
  },
  {
   "cell_type": "code",
   "execution_count": 23,
   "metadata": {},
   "outputs": [
    {
     "data": {
      "application/vnd.jupyter.widget-view+json": {
       "model_id": "",
       "version_major": 2,
       "version_minor": 0
      },
      "text/plain": [
       "HBox(children=(IntProgress(value=0, description='Epoch', max=10), HTML(value='')))"
      ]
     },
     "metadata": {},
     "output_type": "display_data"
    },
    {
     "name": "stdout",
     "output_type": "stream",
     "text": [
      "  9%|▉         | 9/98 [00:01<00:19,  4.64it/s, loss=0.0262] \n",
      " 10%|█         | 10/98 [00:02<00:18,  4.83it/s, loss=0.0252]"
     ]
    },
    {
     "name": "stderr",
     "output_type": "stream",
     "text": [
      "Exception in thread Thread-66:\n",
      "Traceback (most recent call last):\n",
      "  File \"/home/paperspace/anaconda3/envs/fastai/lib/python3.6/threading.py\", line 916, in _bootstrap_inner\n",
      "    self.run()\n",
      "  File \"/home/paperspace/anaconda3/envs/fastai/lib/python3.6/site-packages/tqdm/_monitor.py\", line 62, in run\n",
      "    for instance in self.tqdm_cls._instances:\n",
      "  File \"/home/paperspace/anaconda3/envs/fastai/lib/python3.6/_weakrefset.py\", line 60, in __iter__\n",
      "    for itemref in self.data:\n",
      "RuntimeError: Set changed size during iteration\n",
      "\n"
     ]
    },
    {
     "name": "stdout",
     "output_type": "stream",
     "text": [
      "epoch      trn_loss   val_loss   accuracy                   \n",
      "    0      0.025027   0.201463   0.9415    \n",
      "    1      0.027213   0.202321   0.9414                     \n",
      "    2      0.024938   0.201524   0.9419                     \n",
      "    3      0.025795   0.201472   0.9423                     \n",
      "    4      0.025591   0.203244   0.9417                     \n",
      "    5      0.026017   0.201155   0.9419                     \n",
      "    6      0.026661   0.201514   0.9417                     \n",
      "    7      0.026315   0.203042   0.9412                     \n",
      "    8      0.02512    0.202314   0.9412                     \n",
      "    9      0.026203   0.202965   0.9414                     \n",
      "\n"
     ]
    },
    {
     "data": {
      "image/png": "[encoded data removed]",
      "text/plain": [
       "<Figure size 432x288 with 1 Axes>"
      ]
     },
     "metadata": {},
     "output_type": "display_data"
    }
   ],
   "source": [
    "learner.fit(.0005,args.epochs, cycle_len=10,\n",
    "            wds=args.weight_decay, loss_scale=args.loss_scale,\n",
    "            **sargs)\n",
    "save_sched(learner.sched, args.save_dir)"
   ]
  },
  {
   "cell_type": "markdown",
   "metadata": {},
   "source": [
    "### One last time"
   ]
  },
  {
   "cell_type": "code",
   "execution_count": 22,
   "metadata": {},
   "outputs": [],
   "source": [
    "learner.load('wrn_22_dawn_netblk_94')"
   ]
  },
  {
   "cell_type": "code",
   "execution_count": 28,
   "metadata": {},
   "outputs": [
    {
     "data": {
      "application/vnd.jupyter.widget-view+json": {
       "model_id": "16293f7d0f334bd2a0a8dbb6ff416c0b",
       "version_major": 2,
       "version_minor": 0
      },
      "text/plain": [
       "HBox(children=(IntProgress(value=0, description='Epoch', max=10), HTML(value='')))"
      ]
     },
     "metadata": {},
     "output_type": "display_data"
    },
    {
     "name": "stdout",
     "output_type": "stream",
     "text": [
      "epoch      trn_loss   val_loss   accuracy                   \n",
      "    0      0.026116   0.20106    0.9423    \n",
      "    1      0.025932   0.201233   0.9423                     \n",
      "    2      0.024974   0.201628   0.9407                     \n",
      "    3      0.025619   0.203512   0.9414                     \n",
      "    4      0.026225   0.203159   0.9418                     \n",
      "    5      0.026438   0.200673   0.9419                     \n",
      "    6      0.024699   0.201114   0.9426                     \n",
      "    7      0.02558    0.202239   0.9414                     \n",
      "    8      0.02507    0.203346   0.9416                     \n",
      "    9      0.024194   0.202236   0.9417                     \n",
      "\n"
     ]
    },
    {
     "data": {
      "image/png": "[encoded data removed]",
      "text/plain": [
       "<Figure size 432x288 with 1 Axes>"
      ]
     },
     "metadata": {},
     "output_type": "display_data"
    }
   ],
   "source": [
    "learner.fit(.001,args.epochs, cycle_len=10,\n",
    "            wds=args.weight_decay, loss_scale=args.loss_scale, use_clr=(20,2),\n",
    "            **sargs)\n",
    "save_sched(learner.sched, args.save_dir)"
   ]
  },
  {
   "cell_type": "markdown",
   "metadata": {},
   "source": [
    "### Ok now double size"
   ]
  },
  {
   "cell_type": "code",
   "execution_count": 18,
   "metadata": {},
   "outputs": [],
   "source": [
    "learner.load('wrn_22_dawn_netblk_94')"
   ]
  },
  {
   "cell_type": "code",
   "execution_count": 16,
   "metadata": {},
   "outputs": [],
   "source": [
    "m1 = learner.model"
   ]
  },
  {
   "cell_type": "code",
   "execution_count": 17,
   "metadata": {},
   "outputs": [],
   "source": [
    "arch2 = 'wrn_28'\n",
    "m2 = cifar10models.__dict__[arch2] if arch2 in cifar10_names else models.__dict__[arch2]\n",
    "m2 = m2()"
   ]
  },
  {
   "cell_type": "code",
   "execution_count": 21,
   "metadata": {},
   "outputs": [],
   "source": [
    "sd1, sd2 = m1.state_dict(), m2.state_dict()"
   ]
  },
  {
   "cell_type": "code",
   "execution_count": 22,
   "metadata": {},
   "outputs": [],
   "source": [
    "sd2.update(sd1)"
   ]
  },
  {
   "cell_type": "code",
   "execution_count": 23,
   "metadata": {},
   "outputs": [],
   "source": [
    "m2.load_state_dict(sd2)"
   ]
  },
  {
   "cell_type": "code",
   "execution_count": 24,
   "metadata": {},
   "outputs": [
    {
     "data": {
      "text/plain": [
       "{'features.1.layer.3.bn.bias',\n",
       " 'features.1.layer.3.bn.running_mean',\n",
       " 'features.1.layer.3.bn.running_var',\n",
       " 'features.1.layer.3.bn.weight',\n",
       " 'features.1.layer.3.conv1.weight',\n",
       " 'features.1.layer.3.conv2.0.bias',\n",
       " 'features.1.layer.3.conv2.0.running_mean',\n",
       " 'features.1.layer.3.conv2.0.running_var',\n",
       " 'features.1.layer.3.conv2.0.weight',\n",
       " 'features.1.layer.3.conv2.2.weight',\n",
       " 'features.2.layer.3.bn.bias',\n",
       " 'features.2.layer.3.bn.running_mean',\n",
       " 'features.2.layer.3.bn.running_var',\n",
       " 'features.2.layer.3.bn.weight',\n",
       " 'features.2.layer.3.conv1.weight',\n",
       " 'features.2.layer.3.conv2.0.bias',\n",
       " 'features.2.layer.3.conv2.0.running_mean',\n",
       " 'features.2.layer.3.conv2.0.running_var',\n",
       " 'features.2.layer.3.conv2.0.weight',\n",
       " 'features.2.layer.3.conv2.2.weight',\n",
       " 'features.3.layer.3.bn.bias',\n",
       " 'features.3.layer.3.bn.running_mean',\n",
       " 'features.3.layer.3.bn.running_var',\n",
       " 'features.3.layer.3.bn.weight',\n",
       " 'features.3.layer.3.conv1.weight',\n",
       " 'features.3.layer.3.conv2.0.bias',\n",
       " 'features.3.layer.3.conv2.0.running_mean',\n",
       " 'features.3.layer.3.conv2.0.running_var',\n",
       " 'features.3.layer.3.conv2.0.weight',\n",
       " 'features.3.layer.3.conv2.2.weight'}"
      ]
     },
     "execution_count": 24,
     "metadata": {},
     "output_type": "execute_result"
    }
   ],
   "source": [
    "new_params = set(sd2) - set(sd1); new_params"
   ]
  },
  {
   "cell_type": "code",
   "execution_count": 26,
   "metadata": {},
   "outputs": [],
   "source": [
    "# a = 'sdfdsf'"
   ]
  },
  {
   "cell_type": "code",
   "execution_count": null,
   "metadata": {},
   "outputs": [],
   "source": [
    "# a.endswith('bn.bias')"
   ]
  },
  {
   "cell_type": "code",
   "execution_count": 27,
   "metadata": {},
   "outputs": [],
   "source": [
    "for k,v in m2.named_parameters():\n",
    "    if k in sd1:\n",
    "        v.required_grad=False\n",
    "    if k in new_params and k.endswith('bn.bias'):\n",
    "        print(v)\n",
    "        v.data.zero_()"
   ]
  },
  {
   "cell_type": "code",
   "execution_count": 28,
   "metadata": {},
   "outputs": [],
   "source": [
    "m2 = m2.cuda()"
   ]
  },
  {
   "cell_type": "code",
   "execution_count": 29,
   "metadata": {},
   "outputs": [],
   "source": [
    "learner2 = Learner.from_model_data(m2, data)\n",
    "learner2.crit = F.cross_entropy\n",
    "learner2.metrics = [accuracy]\n",
    "if args.fp16: learner2.half()"
   ]
  },
  {
   "cell_type": "code",
   "execution_count": 30,
   "metadata": {},
   "outputs": [
    {
     "data": {
      "application/vnd.jupyter.widget-view+json": {
       "model_id": "e07fea2e167e4b5bac9fcb314411ce69",
       "version_major": 2,
       "version_minor": 0
      },
      "text/plain": [
       "HBox(children=(IntProgress(value=0, description='Epoch', max=10), HTML(value='')))"
      ]
     },
     "metadata": {},
     "output_type": "display_data"
    },
    {
     "name": "stdout",
     "output_type": "stream",
     "text": [
      "epoch      trn_loss   val_loss   accuracy                   \n",
      "    0      0.042653   0.210187   0.9399    \n",
      "    1      0.035342   0.20863    0.9405                     \n",
      "    2      0.032633   0.209385   0.9407                     \n",
      "    3      0.029704   0.210101   0.9406                     \n",
      "    4      0.027098   0.211918   0.9421                     \n",
      "    5      0.026394   0.21579    0.9412                     \n",
      "    6      0.025734   0.217428   0.942                      \n",
      "    7      0.024595   0.217304   0.9421                     \n",
      "    8      0.024773   0.217709   0.9428                     \n",
      "    9      0.023811   0.216756   0.9415                     \n",
      "\n"
     ]
    },
    {
     "data": {
      "image/png": "[encoded data removed]",
      "text/plain": [
       "<Figure size 432x288 with 1 Axes>"
      ]
     },
     "metadata": {},
     "output_type": "display_data"
    },
    {
     "data": {
      "image/png": "[encoded data removed]",
      "text/plain": [
       "<Figure size 864x288 with 2 Axes>"
      ]
     },
     "metadata": {},
     "output_type": "display_data"
    }
   ],
   "source": [
    "# Full size\n",
    "update_model_dir(learner2, args.save_dir)\n",
    "sargs = save_args('depth28', args.save_dir)\n",
    "\n",
    "# learner2.fit(args.lr,args.epochs, cycle_len=args.cycle_len,\n",
    "learner2.fit(1e-2,args.epochs, cycle_len=10,\n",
    "            wds=args.weight_decay,\n",
    "            use_clr_beta=args.use_clr, loss_scale=args.loss_scale,\n",
    "            **sargs)\n",
    "save_sched(learner2.sched, args.save_dir)"
   ]
  },
  {
   "cell_type": "code",
   "execution_count": null,
   "metadata": {},
   "outputs": [],
   "source": []
  }
 ],
 "metadata": {
  "kernelspec": {
   "display_name": "Python 3",
   "language": "python",
   "name": "python3"
  },
  "language_info": {
   "codemirror_mode": {
    "name": "ipython",
    "version": 3
   },
   "file_extension": ".py",
   "mimetype": "text/x-python",
   "name": "python",
   "nbconvert_exporter": "python",
   "pygments_lexer": "ipython3",
   "version": "3.6.5"
  },
  "toc": {
   "nav_menu": {
    "height": "266px",
    "width": "252px"
   },
   "number_sections": true,
   "sideBar": true,
   "skip_h1_title": false,
   "toc_cell": false,
   "toc_position": {},
   "toc_section_display": "block",
   "toc_window_display": false
  }
 },
 "nbformat": 4,
 "nbformat_minor": 2
}
